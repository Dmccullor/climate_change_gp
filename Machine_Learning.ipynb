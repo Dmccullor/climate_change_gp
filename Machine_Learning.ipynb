{
 "cells": [
  {
   "cell_type": "code",
   "execution_count": 5,
   "id": "1b183e03",
   "metadata": {},
   "outputs": [],
   "source": [
    "import numpy as np\n",
    "import matplotlib.pyplot as plt  \n",
    "import pandas as pd \n",
    "from sklearn.linear_model import LinearRegression"
   ]
  },
  {
   "cell_type": "code",
   "execution_count": 6,
   "id": "f5a73c7f",
   "metadata": {},
   "outputs": [
    {
     "data": {
      "text/html": [
       "<div>\n",
       "<style scoped>\n",
       "    .dataframe tbody tr th:only-of-type {\n",
       "        vertical-align: middle;\n",
       "    }\n",
       "\n",
       "    .dataframe tbody tr th {\n",
       "        vertical-align: top;\n",
       "    }\n",
       "\n",
       "    .dataframe thead th {\n",
       "        text-align: right;\n",
       "    }\n",
       "</style>\n",
       "<table border=\"1\" class=\"dataframe\">\n",
       "  <thead>\n",
       "    <tr style=\"text-align: right;\">\n",
       "      <th></th>\n",
       "      <th>GMSL_noGIA</th>\n",
       "      <th>GMSL_GIA</th>\n",
       "      <th>South_Extent</th>\n",
       "      <th>North_Extent</th>\n",
       "    </tr>\n",
       "    <tr>\n",
       "      <th>Year</th>\n",
       "      <th></th>\n",
       "      <th></th>\n",
       "      <th></th>\n",
       "      <th></th>\n",
       "    </tr>\n",
       "  </thead>\n",
       "  <tbody>\n",
       "    <tr>\n",
       "      <th>1993</th>\n",
       "      <td>-34.605405</td>\n",
       "      <td>-34.483784</td>\n",
       "      <td>11.419940</td>\n",
       "      <td>11.923052</td>\n",
       "    </tr>\n",
       "    <tr>\n",
       "      <th>1994</th>\n",
       "      <td>-30.951081</td>\n",
       "      <td>-30.584324</td>\n",
       "      <td>11.773970</td>\n",
       "      <td>12.011318</td>\n",
       "    </tr>\n",
       "    <tr>\n",
       "      <th>1995</th>\n",
       "      <td>-28.645946</td>\n",
       "      <td>-28.019459</td>\n",
       "      <td>11.794756</td>\n",
       "      <td>11.415110</td>\n",
       "    </tr>\n",
       "    <tr>\n",
       "      <th>1996</th>\n",
       "      <td>-26.596389</td>\n",
       "      <td>-25.744167</td>\n",
       "      <td>11.769128</td>\n",
       "      <td>11.840787</td>\n",
       "    </tr>\n",
       "    <tr>\n",
       "      <th>1997</th>\n",
       "      <td>-22.682432</td>\n",
       "      <td>-21.591081</td>\n",
       "      <td>11.390052</td>\n",
       "      <td>11.667614</td>\n",
       "    </tr>\n",
       "    <tr>\n",
       "      <th>1998</th>\n",
       "      <td>-25.060541</td>\n",
       "      <td>-23.726486</td>\n",
       "      <td>11.738373</td>\n",
       "      <td>11.757381</td>\n",
       "    </tr>\n",
       "    <tr>\n",
       "      <th>1999</th>\n",
       "      <td>-21.812432</td>\n",
       "      <td>-20.228649</td>\n",
       "      <td>11.760682</td>\n",
       "      <td>11.691466</td>\n",
       "    </tr>\n",
       "    <tr>\n",
       "      <th>2000</th>\n",
       "      <td>-18.425405</td>\n",
       "      <td>-16.597568</td>\n",
       "      <td>11.747227</td>\n",
       "      <td>11.508175</td>\n",
       "    </tr>\n",
       "    <tr>\n",
       "      <th>2001</th>\n",
       "      <td>-13.219189</td>\n",
       "      <td>-11.145405</td>\n",
       "      <td>11.672625</td>\n",
       "      <td>11.600016</td>\n",
       "    </tr>\n",
       "    <tr>\n",
       "      <th>2002</th>\n",
       "      <td>-9.372778</td>\n",
       "      <td>-7.059722</td>\n",
       "      <td>11.221608</td>\n",
       "      <td>11.362866</td>\n",
       "    </tr>\n",
       "    <tr>\n",
       "      <th>2003</th>\n",
       "      <td>-6.318108</td>\n",
       "      <td>-3.763514</td>\n",
       "      <td>11.969288</td>\n",
       "      <td>11.397222</td>\n",
       "    </tr>\n",
       "    <tr>\n",
       "      <th>2004</th>\n",
       "      <td>-4.425135</td>\n",
       "      <td>-1.623514</td>\n",
       "      <td>11.961497</td>\n",
       "      <td>11.240434</td>\n",
       "    </tr>\n",
       "    <tr>\n",
       "      <th>2005</th>\n",
       "      <td>-0.030811</td>\n",
       "      <td>3.015405</td>\n",
       "      <td>11.694879</td>\n",
       "      <td>10.906975</td>\n",
       "    </tr>\n",
       "    <tr>\n",
       "      <th>2006</th>\n",
       "      <td>1.091667</td>\n",
       "      <td>4.372500</td>\n",
       "      <td>11.460912</td>\n",
       "      <td>10.772614</td>\n",
       "    </tr>\n",
       "    <tr>\n",
       "      <th>2007</th>\n",
       "      <td>1.487838</td>\n",
       "      <td>5.022432</td>\n",
       "      <td>11.687107</td>\n",
       "      <td>10.474096</td>\n",
       "    </tr>\n",
       "    <tr>\n",
       "      <th>2008</th>\n",
       "      <td>3.549167</td>\n",
       "      <td>7.328889</td>\n",
       "      <td>12.239407</td>\n",
       "      <td>10.977847</td>\n",
       "    </tr>\n",
       "    <tr>\n",
       "      <th>2009</th>\n",
       "      <td>8.411351</td>\n",
       "      <td>12.431351</td>\n",
       "      <td>12.048592</td>\n",
       "      <td>10.931970</td>\n",
       "    </tr>\n",
       "    <tr>\n",
       "      <th>2010</th>\n",
       "      <td>9.391351</td>\n",
       "      <td>13.653514</td>\n",
       "      <td>12.106792</td>\n",
       "      <td>10.711392</td>\n",
       "    </tr>\n",
       "    <tr>\n",
       "      <th>2011</th>\n",
       "      <td>8.429730</td>\n",
       "      <td>12.935946</td>\n",
       "      <td>11.500573</td>\n",
       "      <td>10.483496</td>\n",
       "    </tr>\n",
       "    <tr>\n",
       "      <th>2012</th>\n",
       "      <td>19.255676</td>\n",
       "      <td>24.002973</td>\n",
       "      <td>12.004437</td>\n",
       "      <td>10.406098</td>\n",
       "    </tr>\n",
       "    <tr>\n",
       "      <th>2013</th>\n",
       "      <td>21.304054</td>\n",
       "      <td>26.298649</td>\n",
       "      <td>12.523605</td>\n",
       "      <td>10.897115</td>\n",
       "    </tr>\n",
       "    <tr>\n",
       "      <th>2014</th>\n",
       "      <td>24.850833</td>\n",
       "      <td>30.078333</td>\n",
       "      <td>12.776126</td>\n",
       "      <td>10.790496</td>\n",
       "    </tr>\n",
       "    <tr>\n",
       "      <th>2015</th>\n",
       "      <td>35.421351</td>\n",
       "      <td>40.896757</td>\n",
       "      <td>12.414101</td>\n",
       "      <td>10.565816</td>\n",
       "    </tr>\n",
       "  </tbody>\n",
       "</table>\n",
       "</div>"
      ],
      "text/plain": [
       "      GMSL_noGIA   GMSL_GIA  South_Extent  North_Extent\n",
       "Year                                                   \n",
       "1993  -34.605405 -34.483784     11.419940     11.923052\n",
       "1994  -30.951081 -30.584324     11.773970     12.011318\n",
       "1995  -28.645946 -28.019459     11.794756     11.415110\n",
       "1996  -26.596389 -25.744167     11.769128     11.840787\n",
       "1997  -22.682432 -21.591081     11.390052     11.667614\n",
       "1998  -25.060541 -23.726486     11.738373     11.757381\n",
       "1999  -21.812432 -20.228649     11.760682     11.691466\n",
       "2000  -18.425405 -16.597568     11.747227     11.508175\n",
       "2001  -13.219189 -11.145405     11.672625     11.600016\n",
       "2002   -9.372778  -7.059722     11.221608     11.362866\n",
       "2003   -6.318108  -3.763514     11.969288     11.397222\n",
       "2004   -4.425135  -1.623514     11.961497     11.240434\n",
       "2005   -0.030811   3.015405     11.694879     10.906975\n",
       "2006    1.091667   4.372500     11.460912     10.772614\n",
       "2007    1.487838   5.022432     11.687107     10.474096\n",
       "2008    3.549167   7.328889     12.239407     10.977847\n",
       "2009    8.411351  12.431351     12.048592     10.931970\n",
       "2010    9.391351  13.653514     12.106792     10.711392\n",
       "2011    8.429730  12.935946     11.500573     10.483496\n",
       "2012   19.255676  24.002973     12.004437     10.406098\n",
       "2013   21.304054  26.298649     12.523605     10.897115\n",
       "2014   24.850833  30.078333     12.776126     10.790496\n",
       "2015   35.421351  40.896757     12.414101     10.565816"
      ]
     },
     "execution_count": 6,
     "metadata": {},
     "output_type": "execute_result"
    }
   ],
   "source": [
    "# Load the datasets\n",
    "ml_df = pd.read_csv(\"/Users/umabh/DataClass/climate_change_gp/Resources/merged_df.csv\",index_col=False)\n",
    "ml_df.set_index('Year', inplace=True)\n",
    "\n",
    "ml_df"
   ]
  },
  {
   "cell_type": "markdown",
   "id": "18c5374e",
   "metadata": {},
   "source": [
    "### Simple Regression using - North_Extent as independent variable and  GMSL_GIA as dependent variable"
   ]
  },
  {
   "cell_type": "code",
   "execution_count": 7,
   "id": "56da33bd",
   "metadata": {},
   "outputs": [],
   "source": [
    "X = ml_df.iloc[:, 3].values.reshape(-1, 1)  # values converts it into a numpy array\n",
    "Y = ml_df.iloc[:, 1].values.reshape(-1, 1)  # -1 means that calculate the dimension of rows, but have 1 column\n",
    "linear_regressor = LinearRegression()  # create object for the class\n",
    "linear_regressor.fit(X, Y)  # perform linear regression\n",
    "Y_pred = linear_regressor.predict(X)  # make predictions"
   ]
  },
  {
   "cell_type": "code",
   "execution_count": 8,
   "id": "c890c45a",
   "metadata": {},
   "outputs": [
    {
     "data": {
      "image/png": "[encoded data removed]",
      "text/plain": [
       "<Figure size 432x288 with 1 Axes>"
      ]
     },
     "metadata": {
      "needs_background": "light"
     },
     "output_type": "display_data"
    }
   ],
   "source": [
    "plt.scatter(X, Y)\n",
    "plt.plot(X, Y_pred, color='red')\n",
    "plt.show()\n"
   ]
  },
  {
   "cell_type": "markdown",
   "id": "950e8700",
   "metadata": {},
   "source": [
    "### Simple Regression using - South_Extent as independent variable and  GMSL_GIA as dependent variable"
   ]
  },
  {
   "cell_type": "code",
   "execution_count": 9,
   "id": "5be56ca6",
   "metadata": {},
   "outputs": [],
   "source": [
    "X = ml_df.iloc[:, 2].values.reshape(-1, 1)  # values converts it into a numpy array\n",
    "Y = ml_df.iloc[:, 1].values.reshape(-1, 1)  # -1 means that calculate the dimension of rows, but have 1 column\n",
    "linear_regressor = LinearRegression()  # create object for the class\n",
    "linear_regressor.fit(X, Y)  # perform linear regression\n",
    "Y_pred = linear_regressor.predict(X)  # make predictions"
   ]
  },
  {
   "cell_type": "code",
   "execution_count": 10,
   "id": "a5fda1ea",
   "metadata": {},
   "outputs": [
    {
     "data": {
      "image/png": "[encoded data removed]",
      "text/plain": [
       "<Figure size 432x288 with 1 Axes>"
      ]
     },
     "metadata": {
      "needs_background": "light"
     },
     "output_type": "display_data"
    }
   ],
   "source": [
    "plt.scatter(X, Y)\n",
    "plt.plot(X, Y_pred, color='red')\n",
    "plt.show()\n"
   ]
  },
  {
   "cell_type": "code",
   "execution_count": null,
   "id": "9f767587",
   "metadata": {},
   "outputs": [],
   "source": []
  }
 ],
 "metadata": {
  "kernelspec": {
   "display_name": "mlenv",
   "language": "python",
   "name": "mlenv"
  },
  "language_info": {
   "codemirror_mode": {
    "name": "ipython",
    "version": 3
   },
   "file_extension": ".py",
   "mimetype": "text/x-python",
   "name": "python",
   "nbconvert_exporter": "python",
   "pygments_lexer": "ipython3",
   "version": "3.7.10"
  }
 },
 "nbformat": 4,
 "nbformat_minor": 5
}
