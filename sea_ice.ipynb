{
 "cells": [
  {
   "cell_type": "code",
   "execution_count": 1,
   "id": "984fb559",
   "metadata": {},
   "outputs": [],
   "source": [
    "import pandas as pd\n",
    "import plotly.express as px\n",
    "from copy import copy\n",
    "import matplotlib.pyplot as plt\n",
    "import matplotlib.dates as mdates \n",
    "%matplotlib inline \n",
    "plt.style.use('fivethirtyeight')\n",
    "import numpy as np\n",
    "import seaborn as sns\n",
    "from sklearn.model_selection import train_test_split\n",
    "from sklearn.metrics import r2_score\n",
    "from sklearn.preprocessing import MinMaxScaler\n",
    "import tensorflow as tf\n",
    "from tensorflow import keras\n",
    "import plotly.offline as py\n",
    "import plotly.express as px\n",
    "import plotly.graph_objects as go\n",
    "import datetime as dt\n",
    "\n"
   ]
  },
  {
   "cell_type": "code",
   "execution_count": 2,
   "id": "5f8c9b4a",
   "metadata": {},
   "outputs": [
    {
     "data": {
      "text/html": [
       "<div>\n",
       "<style scoped>\n",
       "    .dataframe tbody tr th:only-of-type {\n",
       "        vertical-align: middle;\n",
       "    }\n",
       "\n",
       "    .dataframe tbody tr th {\n",
       "        vertical-align: top;\n",
       "    }\n",
       "\n",
       "    .dataframe thead th {\n",
       "        text-align: right;\n",
       "    }\n",
       "</style>\n",
       "<table border=\"1\" class=\"dataframe\">\n",
       "  <thead>\n",
       "    <tr style=\"text-align: right;\">\n",
       "      <th></th>\n",
       "      <th>Year</th>\n",
       "      <th>Month</th>\n",
       "      <th>Day</th>\n",
       "      <th>Extent</th>\n",
       "      <th>Missing</th>\n",
       "      <th>Source_Data</th>\n",
       "      <th>hemisphere</th>\n",
       "    </tr>\n",
       "  </thead>\n",
       "  <tbody>\n",
       "    <tr>\n",
       "      <th>0</th>\n",
       "      <td>1978</td>\n",
       "      <td>10</td>\n",
       "      <td>26</td>\n",
       "      <td>10.231</td>\n",
       "      <td>0</td>\n",
       "      <td>ftp://sidads.colorado.edu/pub/DATASETS/nsidc00...</td>\n",
       "      <td>north</td>\n",
       "    </tr>\n",
       "    <tr>\n",
       "      <th>1</th>\n",
       "      <td>1978</td>\n",
       "      <td>10</td>\n",
       "      <td>28</td>\n",
       "      <td>10.420</td>\n",
       "      <td>0</td>\n",
       "      <td>ftp://sidads.colorado.edu/pub/DATASETS/nsidc00...</td>\n",
       "      <td>north</td>\n",
       "    </tr>\n",
       "    <tr>\n",
       "      <th>2</th>\n",
       "      <td>1978</td>\n",
       "      <td>10</td>\n",
       "      <td>30</td>\n",
       "      <td>10.557</td>\n",
       "      <td>0</td>\n",
       "      <td>ftp://sidads.colorado.edu/pub/DATASETS/nsidc00...</td>\n",
       "      <td>north</td>\n",
       "    </tr>\n",
       "    <tr>\n",
       "      <th>3</th>\n",
       "      <td>1978</td>\n",
       "      <td>11</td>\n",
       "      <td>1</td>\n",
       "      <td>10.670</td>\n",
       "      <td>0</td>\n",
       "      <td>ftp://sidads.colorado.edu/pub/DATASETS/nsidc00...</td>\n",
       "      <td>north</td>\n",
       "    </tr>\n",
       "    <tr>\n",
       "      <th>4</th>\n",
       "      <td>1978</td>\n",
       "      <td>11</td>\n",
       "      <td>3</td>\n",
       "      <td>10.777</td>\n",
       "      <td>0</td>\n",
       "      <td>ftp://sidads.colorado.edu/pub/DATASETS/nsidc00...</td>\n",
       "      <td>north</td>\n",
       "    </tr>\n",
       "    <tr>\n",
       "      <th>...</th>\n",
       "      <td>...</td>\n",
       "      <td>...</td>\n",
       "      <td>...</td>\n",
       "      <td>...</td>\n",
       "      <td>...</td>\n",
       "      <td>...</td>\n",
       "      <td>...</td>\n",
       "    </tr>\n",
       "    <tr>\n",
       "      <th>23855</th>\n",
       "      <td>2015</td>\n",
       "      <td>12</td>\n",
       "      <td>27</td>\n",
       "      <td>8.358</td>\n",
       "      <td>0</td>\n",
       "      <td>ftp://sidads.colorado.edu/pub/DATASETS/nsidc00...</td>\n",
       "      <td>south</td>\n",
       "    </tr>\n",
       "    <tr>\n",
       "      <th>23856</th>\n",
       "      <td>2015</td>\n",
       "      <td>12</td>\n",
       "      <td>28</td>\n",
       "      <td>8.098</td>\n",
       "      <td>0</td>\n",
       "      <td>ftp://sidads.colorado.edu/pub/DATASETS/nsidc00...</td>\n",
       "      <td>south</td>\n",
       "    </tr>\n",
       "    <tr>\n",
       "      <th>23857</th>\n",
       "      <td>2015</td>\n",
       "      <td>12</td>\n",
       "      <td>29</td>\n",
       "      <td>7.791</td>\n",
       "      <td>0</td>\n",
       "      <td>ftp://sidads.colorado.edu/pub/DATASETS/nsidc00...</td>\n",
       "      <td>south</td>\n",
       "    </tr>\n",
       "    <tr>\n",
       "      <th>23858</th>\n",
       "      <td>2015</td>\n",
       "      <td>12</td>\n",
       "      <td>30</td>\n",
       "      <td>7.494</td>\n",
       "      <td>0</td>\n",
       "      <td>ftp://sidads.colorado.edu/pub/DATASETS/nsidc00...</td>\n",
       "      <td>south</td>\n",
       "    </tr>\n",
       "    <tr>\n",
       "      <th>23859</th>\n",
       "      <td>2015</td>\n",
       "      <td>12</td>\n",
       "      <td>31</td>\n",
       "      <td>7.222</td>\n",
       "      <td>0</td>\n",
       "      <td>ftp://sidads.colorado.edu/pub/DATASETS/nsidc00...</td>\n",
       "      <td>south</td>\n",
       "    </tr>\n",
       "  </tbody>\n",
       "</table>\n",
       "<p>23860 rows × 7 columns</p>\n",
       "</div>"
      ],
      "text/plain": [
       "       Year  Month  Day  Extent  Missing  \\\n",
       "0      1978     10   26  10.231        0   \n",
       "1      1978     10   28  10.420        0   \n",
       "2      1978     10   30  10.557        0   \n",
       "3      1978     11    1  10.670        0   \n",
       "4      1978     11    3  10.777        0   \n",
       "...     ...    ...  ...     ...      ...   \n",
       "23855  2015     12   27   8.358        0   \n",
       "23856  2015     12   28   8.098        0   \n",
       "23857  2015     12   29   7.791        0   \n",
       "23858  2015     12   30   7.494        0   \n",
       "23859  2015     12   31   7.222        0   \n",
       "\n",
       "                                             Source_Data hemisphere  \n",
       "0      ftp://sidads.colorado.edu/pub/DATASETS/nsidc00...      north  \n",
       "1      ftp://sidads.colorado.edu/pub/DATASETS/nsidc00...      north  \n",
       "2      ftp://sidads.colorado.edu/pub/DATASETS/nsidc00...      north  \n",
       "3      ftp://sidads.colorado.edu/pub/DATASETS/nsidc00...      north  \n",
       "4      ftp://sidads.colorado.edu/pub/DATASETS/nsidc00...      north  \n",
       "...                                                  ...        ...  \n",
       "23855  ftp://sidads.colorado.edu/pub/DATASETS/nsidc00...      south  \n",
       "23856  ftp://sidads.colorado.edu/pub/DATASETS/nsidc00...      south  \n",
       "23857  ftp://sidads.colorado.edu/pub/DATASETS/nsidc00...      south  \n",
       "23858  ftp://sidads.colorado.edu/pub/DATASETS/nsidc00...      south  \n",
       "23859  ftp://sidads.colorado.edu/pub/DATASETS/nsidc00...      south  \n",
       "\n",
       "[23860 rows x 7 columns]"
      ]
     },
     "execution_count": 2,
     "metadata": {},
     "output_type": "execute_result"
    }
   ],
   "source": [
    "# Load the seaice.csv dataset.\n",
    "seaice_df = pd.read_csv(\"/Users/umabh/DataClass/climate_change_gp/Resources/seaice.csv\")\n",
    "seaice_df"
   ]
  },
  {
   "cell_type": "code",
   "execution_count": 3,
   "id": "1f5e6435",
   "metadata": {},
   "outputs": [
    {
     "data": {
      "text/plain": [
       "Year             int64\n",
       "Month            int64\n",
       "Day              int64\n",
       "Extent         float64\n",
       "Missing          int64\n",
       "Source_Data     object\n",
       "hemisphere      object\n",
       "dtype: object"
      ]
     },
     "execution_count": 3,
     "metadata": {},
     "output_type": "execute_result"
    }
   ],
   "source": [
    "seaice_df.dtypes"
   ]
  },
  {
   "cell_type": "code",
   "execution_count": 4,
   "id": "1ea8cb98",
   "metadata": {},
   "outputs": [
    {
     "name": "stdout",
     "output_type": "stream",
     "text": [
      "<class 'pandas.core.frame.DataFrame'>\n",
      "RangeIndex: 23860 entries, 0 to 23859\n",
      "Data columns (total 7 columns):\n",
      " #   Column       Non-Null Count  Dtype  \n",
      "---  ------       --------------  -----  \n",
      " 0   Year         23860 non-null  int64  \n",
      " 1   Month        23860 non-null  int64  \n",
      " 2   Day          23860 non-null  int64  \n",
      " 3   Extent       23860 non-null  float64\n",
      " 4   Missing      23860 non-null  int64  \n",
      " 5   Source_Data  23860 non-null  object \n",
      " 6   hemisphere   23860 non-null  object \n",
      "dtypes: float64(1), int64(4), object(2)\n",
      "memory usage: 1.3+ MB\n"
     ]
    }
   ],
   "source": [
    "seaice_df.info()"
   ]
  },
  {
   "cell_type": "code",
   "execution_count": 5,
   "id": "f05dd459",
   "metadata": {},
   "outputs": [
    {
     "data": {
      "text/html": [
       "<div>\n",
       "<style scoped>\n",
       "    .dataframe tbody tr th:only-of-type {\n",
       "        vertical-align: middle;\n",
       "    }\n",
       "\n",
       "    .dataframe tbody tr th {\n",
       "        vertical-align: top;\n",
       "    }\n",
       "\n",
       "    .dataframe thead th {\n",
       "        text-align: right;\n",
       "    }\n",
       "</style>\n",
       "<table border=\"1\" class=\"dataframe\">\n",
       "  <thead>\n",
       "    <tr style=\"text-align: right;\">\n",
       "      <th></th>\n",
       "      <th>Year</th>\n",
       "      <th>Month</th>\n",
       "      <th>Day</th>\n",
       "      <th>Extent</th>\n",
       "      <th>Missing</th>\n",
       "    </tr>\n",
       "  </thead>\n",
       "  <tbody>\n",
       "    <tr>\n",
       "      <th>count</th>\n",
       "      <td>23860.000000</td>\n",
       "      <td>23860.000000</td>\n",
       "      <td>23860.000000</td>\n",
       "      <td>23860.000000</td>\n",
       "      <td>23860.0</td>\n",
       "    </tr>\n",
       "    <tr>\n",
       "      <th>mean</th>\n",
       "      <td>1998.851635</td>\n",
       "      <td>6.550293</td>\n",
       "      <td>15.742917</td>\n",
       "      <td>11.603068</td>\n",
       "      <td>0.0</td>\n",
       "    </tr>\n",
       "    <tr>\n",
       "      <th>std</th>\n",
       "      <td>9.951976</td>\n",
       "      <td>3.447684</td>\n",
       "      <td>8.802258</td>\n",
       "      <td>4.586068</td>\n",
       "      <td>0.0</td>\n",
       "    </tr>\n",
       "    <tr>\n",
       "      <th>min</th>\n",
       "      <td>1978.000000</td>\n",
       "      <td>1.000000</td>\n",
       "      <td>1.000000</td>\n",
       "      <td>2.264000</td>\n",
       "      <td>0.0</td>\n",
       "    </tr>\n",
       "    <tr>\n",
       "      <th>25%</th>\n",
       "      <td>1991.000000</td>\n",
       "      <td>4.000000</td>\n",
       "      <td>8.000000</td>\n",
       "      <td>7.747750</td>\n",
       "      <td>0.0</td>\n",
       "    </tr>\n",
       "    <tr>\n",
       "      <th>50%</th>\n",
       "      <td>1999.000000</td>\n",
       "      <td>7.000000</td>\n",
       "      <td>16.000000</td>\n",
       "      <td>12.297000</td>\n",
       "      <td>0.0</td>\n",
       "    </tr>\n",
       "    <tr>\n",
       "      <th>75%</th>\n",
       "      <td>2007.000000</td>\n",
       "      <td>10.000000</td>\n",
       "      <td>23.000000</td>\n",
       "      <td>15.197250</td>\n",
       "      <td>0.0</td>\n",
       "    </tr>\n",
       "    <tr>\n",
       "      <th>max</th>\n",
       "      <td>2015.000000</td>\n",
       "      <td>12.000000</td>\n",
       "      <td>31.000000</td>\n",
       "      <td>20.201000</td>\n",
       "      <td>0.0</td>\n",
       "    </tr>\n",
       "  </tbody>\n",
       "</table>\n",
       "</div>"
      ],
      "text/plain": [
       "               Year         Month           Day        Extent  Missing\n",
       "count  23860.000000  23860.000000  23860.000000  23860.000000  23860.0\n",
       "mean    1998.851635      6.550293     15.742917     11.603068      0.0\n",
       "std        9.951976      3.447684      8.802258      4.586068      0.0\n",
       "min     1978.000000      1.000000      1.000000      2.264000      0.0\n",
       "25%     1991.000000      4.000000      8.000000      7.747750      0.0\n",
       "50%     1999.000000      7.000000     16.000000     12.297000      0.0\n",
       "75%     2007.000000     10.000000     23.000000     15.197250      0.0\n",
       "max     2015.000000     12.000000     31.000000     20.201000      0.0"
      ]
     },
     "execution_count": 5,
     "metadata": {},
     "output_type": "execute_result"
    }
   ],
   "source": [
    "seaice_df.describe()"
   ]
  },
  {
   "cell_type": "code",
   "execution_count": 6,
   "id": "e0efc595",
   "metadata": {},
   "outputs": [],
   "source": [
    "# delete Source Data column as it not useful for our analysis\n",
    "del seaice_df['Source_Data']"
   ]
  },
  {
   "cell_type": "code",
   "execution_count": 7,
   "id": "28e367ed",
   "metadata": {},
   "outputs": [
    {
     "data": {
      "text/html": [
       "<div>\n",
       "<style scoped>\n",
       "    .dataframe tbody tr th:only-of-type {\n",
       "        vertical-align: middle;\n",
       "    }\n",
       "\n",
       "    .dataframe tbody tr th {\n",
       "        vertical-align: top;\n",
       "    }\n",
       "\n",
       "    .dataframe thead th {\n",
       "        text-align: right;\n",
       "    }\n",
       "</style>\n",
       "<table border=\"1\" class=\"dataframe\">\n",
       "  <thead>\n",
       "    <tr style=\"text-align: right;\">\n",
       "      <th></th>\n",
       "      <th>Year</th>\n",
       "      <th>Month</th>\n",
       "      <th>Day</th>\n",
       "      <th>Extent</th>\n",
       "      <th>Missing</th>\n",
       "      <th>Source_Data</th>\n",
       "      <th>hemisphere</th>\n",
       "    </tr>\n",
       "  </thead>\n",
       "  <tbody>\n",
       "    <tr>\n",
       "      <th>34</th>\n",
       "      <td>1979</td>\n",
       "      <td>1</td>\n",
       "      <td>2</td>\n",
       "      <td>14.997</td>\n",
       "      <td>0</td>\n",
       "      <td>ftp://sidads.colorado.edu/pub/DATASETS/nsidc00...</td>\n",
       "      <td>north</td>\n",
       "    </tr>\n",
       "    <tr>\n",
       "      <th>35</th>\n",
       "      <td>1979</td>\n",
       "      <td>1</td>\n",
       "      <td>4</td>\n",
       "      <td>14.922</td>\n",
       "      <td>0</td>\n",
       "      <td>ftp://sidads.colorado.edu/pub/DATASETS/nsidc00...</td>\n",
       "      <td>north</td>\n",
       "    </tr>\n",
       "    <tr>\n",
       "      <th>36</th>\n",
       "      <td>1979</td>\n",
       "      <td>1</td>\n",
       "      <td>6</td>\n",
       "      <td>14.929</td>\n",
       "      <td>0</td>\n",
       "      <td>ftp://sidads.colorado.edu/pub/DATASETS/nsidc00...</td>\n",
       "      <td>north</td>\n",
       "    </tr>\n",
       "    <tr>\n",
       "      <th>37</th>\n",
       "      <td>1979</td>\n",
       "      <td>1</td>\n",
       "      <td>8</td>\n",
       "      <td>14.968</td>\n",
       "      <td>0</td>\n",
       "      <td>ftp://sidads.colorado.edu/pub/DATASETS/nsidc00...</td>\n",
       "      <td>north</td>\n",
       "    </tr>\n",
       "    <tr>\n",
       "      <th>38</th>\n",
       "      <td>1979</td>\n",
       "      <td>1</td>\n",
       "      <td>10</td>\n",
       "      <td>15.190</td>\n",
       "      <td>0</td>\n",
       "      <td>ftp://sidads.colorado.edu/pub/DATASETS/nsidc00...</td>\n",
       "      <td>north</td>\n",
       "    </tr>\n",
       "    <tr>\n",
       "      <th>...</th>\n",
       "      <td>...</td>\n",
       "      <td>...</td>\n",
       "      <td>...</td>\n",
       "      <td>...</td>\n",
       "      <td>...</td>\n",
       "      <td>...</td>\n",
       "      <td>...</td>\n",
       "    </tr>\n",
       "    <tr>\n",
       "      <th>23855</th>\n",
       "      <td>2015</td>\n",
       "      <td>12</td>\n",
       "      <td>27</td>\n",
       "      <td>8.358</td>\n",
       "      <td>0</td>\n",
       "      <td>ftp://sidads.colorado.edu/pub/DATASETS/nsidc00...</td>\n",
       "      <td>south</td>\n",
       "    </tr>\n",
       "    <tr>\n",
       "      <th>23856</th>\n",
       "      <td>2015</td>\n",
       "      <td>12</td>\n",
       "      <td>28</td>\n",
       "      <td>8.098</td>\n",
       "      <td>0</td>\n",
       "      <td>ftp://sidads.colorado.edu/pub/DATASETS/nsidc00...</td>\n",
       "      <td>south</td>\n",
       "    </tr>\n",
       "    <tr>\n",
       "      <th>23857</th>\n",
       "      <td>2015</td>\n",
       "      <td>12</td>\n",
       "      <td>29</td>\n",
       "      <td>7.791</td>\n",
       "      <td>0</td>\n",
       "      <td>ftp://sidads.colorado.edu/pub/DATASETS/nsidc00...</td>\n",
       "      <td>south</td>\n",
       "    </tr>\n",
       "    <tr>\n",
       "      <th>23858</th>\n",
       "      <td>2015</td>\n",
       "      <td>12</td>\n",
       "      <td>30</td>\n",
       "      <td>7.494</td>\n",
       "      <td>0</td>\n",
       "      <td>ftp://sidads.colorado.edu/pub/DATASETS/nsidc00...</td>\n",
       "      <td>south</td>\n",
       "    </tr>\n",
       "    <tr>\n",
       "      <th>23859</th>\n",
       "      <td>2015</td>\n",
       "      <td>12</td>\n",
       "      <td>31</td>\n",
       "      <td>7.222</td>\n",
       "      <td>0</td>\n",
       "      <td>ftp://sidads.colorado.edu/pub/DATASETS/nsidc00...</td>\n",
       "      <td>south</td>\n",
       "    </tr>\n",
       "  </tbody>\n",
       "</table>\n",
       "<p>23792 rows × 7 columns</p>\n",
       "</div>"
      ],
      "text/plain": [
       "       Year  Month  Day  Extent  Missing  \\\n",
       "34     1979      1    2  14.997        0   \n",
       "35     1979      1    4  14.922        0   \n",
       "36     1979      1    6  14.929        0   \n",
       "37     1979      1    8  14.968        0   \n",
       "38     1979      1   10  15.190        0   \n",
       "...     ...    ...  ...     ...      ...   \n",
       "23855  2015     12   27   8.358        0   \n",
       "23856  2015     12   28   8.098        0   \n",
       "23857  2015     12   29   7.791        0   \n",
       "23858  2015     12   30   7.494        0   \n",
       "23859  2015     12   31   7.222        0   \n",
       "\n",
       "                                             Source_Data hemisphere  \n",
       "34     ftp://sidads.colorado.edu/pub/DATASETS/nsidc00...      north  \n",
       "35     ftp://sidads.colorado.edu/pub/DATASETS/nsidc00...      north  \n",
       "36     ftp://sidads.colorado.edu/pub/DATASETS/nsidc00...      north  \n",
       "37     ftp://sidads.colorado.edu/pub/DATASETS/nsidc00...      north  \n",
       "38     ftp://sidads.colorado.edu/pub/DATASETS/nsidc00...      north  \n",
       "...                                                  ...        ...  \n",
       "23855  ftp://sidads.colorado.edu/pub/DATASETS/nsidc00...      south  \n",
       "23856  ftp://sidads.colorado.edu/pub/DATASETS/nsidc00...      south  \n",
       "23857  ftp://sidads.colorado.edu/pub/DATASETS/nsidc00...      south  \n",
       "23858  ftp://sidads.colorado.edu/pub/DATASETS/nsidc00...      south  \n",
       "23859  ftp://sidads.colorado.edu/pub/DATASETS/nsidc00...      south  \n",
       "\n",
       "[23792 rows x 7 columns]"
      ]
     },
     "execution_count": 7,
     "metadata": {},
     "output_type": "execute_result"
    }
   ],
   "source": [
    "# drop 1978 as it has very few entries\n",
    "seaice_df.drop(seaice_df[seaice_df['Year']== 1978].index,inplace=True)\n",
    "seaice_df"
   ]
  },
  {
   "cell_type": "code",
   "execution_count": 8,
   "id": "321294fe",
   "metadata": {},
   "outputs": [
    {
     "data": {
      "text/plain": [
       "count    23792.000000\n",
       "mean        11.599141\n",
       "std          4.589941\n",
       "min          2.264000\n",
       "25%          7.734750\n",
       "50%         12.294500\n",
       "75%         15.200000\n",
       "max         20.201000\n",
       "Name: Extent, dtype: float64"
      ]
     },
     "execution_count": 8,
     "metadata": {},
     "output_type": "execute_result"
    }
   ],
   "source": [
    "seaice_df['Extent'].describe()\n"
   ]
  },
  {
   "cell_type": "code",
   "execution_count": 9,
   "id": "ccde290c",
   "metadata": {},
   "outputs": [
    {
     "data": {
      "text/html": [
       "<div>\n",
       "<style scoped>\n",
       "    .dataframe tbody tr th:only-of-type {\n",
       "        vertical-align: middle;\n",
       "    }\n",
       "\n",
       "    .dataframe tbody tr th {\n",
       "        vertical-align: top;\n",
       "    }\n",
       "\n",
       "    .dataframe thead th {\n",
       "        text-align: right;\n",
       "    }\n",
       "</style>\n",
       "<table border=\"1\" class=\"dataframe\">\n",
       "  <thead>\n",
       "    <tr style=\"text-align: right;\">\n",
       "      <th></th>\n",
       "      <th>Year</th>\n",
       "      <th>Month</th>\n",
       "      <th>Day</th>\n",
       "      <th>Extent</th>\n",
       "      <th>Missing</th>\n",
       "      <th>Source_Data</th>\n",
       "      <th>hemisphere</th>\n",
       "      <th>Date</th>\n",
       "    </tr>\n",
       "  </thead>\n",
       "  <tbody>\n",
       "    <tr>\n",
       "      <th>1979-01-02</th>\n",
       "      <td>1979</td>\n",
       "      <td>1</td>\n",
       "      <td>2</td>\n",
       "      <td>14.997</td>\n",
       "      <td>0</td>\n",
       "      <td>ftp://sidads.colorado.edu/pub/DATASETS/nsidc00...</td>\n",
       "      <td>north</td>\n",
       "      <td>1979-01-02</td>\n",
       "    </tr>\n",
       "    <tr>\n",
       "      <th>1979-01-04</th>\n",
       "      <td>1979</td>\n",
       "      <td>1</td>\n",
       "      <td>4</td>\n",
       "      <td>14.922</td>\n",
       "      <td>0</td>\n",
       "      <td>ftp://sidads.colorado.edu/pub/DATASETS/nsidc00...</td>\n",
       "      <td>north</td>\n",
       "      <td>1979-01-04</td>\n",
       "    </tr>\n",
       "    <tr>\n",
       "      <th>1979-01-06</th>\n",
       "      <td>1979</td>\n",
       "      <td>1</td>\n",
       "      <td>6</td>\n",
       "      <td>14.929</td>\n",
       "      <td>0</td>\n",
       "      <td>ftp://sidads.colorado.edu/pub/DATASETS/nsidc00...</td>\n",
       "      <td>north</td>\n",
       "      <td>1979-01-06</td>\n",
       "    </tr>\n",
       "    <tr>\n",
       "      <th>1979-01-08</th>\n",
       "      <td>1979</td>\n",
       "      <td>1</td>\n",
       "      <td>8</td>\n",
       "      <td>14.968</td>\n",
       "      <td>0</td>\n",
       "      <td>ftp://sidads.colorado.edu/pub/DATASETS/nsidc00...</td>\n",
       "      <td>north</td>\n",
       "      <td>1979-01-08</td>\n",
       "    </tr>\n",
       "    <tr>\n",
       "      <th>1979-01-10</th>\n",
       "      <td>1979</td>\n",
       "      <td>1</td>\n",
       "      <td>10</td>\n",
       "      <td>15.190</td>\n",
       "      <td>0</td>\n",
       "      <td>ftp://sidads.colorado.edu/pub/DATASETS/nsidc00...</td>\n",
       "      <td>north</td>\n",
       "      <td>1979-01-10</td>\n",
       "    </tr>\n",
       "  </tbody>\n",
       "</table>\n",
       "</div>"
      ],
      "text/plain": [
       "            Year  Month  Day  Extent  Missing  \\\n",
       "1979-01-02  1979      1    2  14.997        0   \n",
       "1979-01-04  1979      1    4  14.922        0   \n",
       "1979-01-06  1979      1    6  14.929        0   \n",
       "1979-01-08  1979      1    8  14.968        0   \n",
       "1979-01-10  1979      1   10  15.190        0   \n",
       "\n",
       "                                                  Source_Data hemisphere  \\\n",
       "1979-01-02  ftp://sidads.colorado.edu/pub/DATASETS/nsidc00...      north   \n",
       "1979-01-04  ftp://sidads.colorado.edu/pub/DATASETS/nsidc00...      north   \n",
       "1979-01-06  ftp://sidads.colorado.edu/pub/DATASETS/nsidc00...      north   \n",
       "1979-01-08  ftp://sidads.colorado.edu/pub/DATASETS/nsidc00...      north   \n",
       "1979-01-10  ftp://sidads.colorado.edu/pub/DATASETS/nsidc00...      north   \n",
       "\n",
       "                 Date  \n",
       "1979-01-02 1979-01-02  \n",
       "1979-01-04 1979-01-04  \n",
       "1979-01-06 1979-01-06  \n",
       "1979-01-08 1979-01-08  \n",
       "1979-01-10 1979-01-10  "
      ]
     },
     "execution_count": 9,
     "metadata": {},
     "output_type": "execute_result"
    }
   ],
   "source": [
    "seaice_df['Date'] = pd.to_datetime(seaice_df[['Year','Month','Day']])\n",
    "seaice_df.index = seaice_df['Date'].values\n",
    "seaice_df.head()"
   ]
  },
  {
   "cell_type": "markdown",
   "id": "b6088a79",
   "metadata": {},
   "source": [
    "### Annual Average Sea Ice Extent"
   ]
  },
  {
   "cell_type": "code",
   "execution_count": 10,
   "id": "9970948f",
   "metadata": {},
   "outputs": [],
   "source": [
    "# Group the dataset by year\n",
    "iceyears_df = seaice_df.groupby(seaice_df['Year'])\n"
   ]
  },
  {
   "cell_type": "code",
   "execution_count": 11,
   "id": "1c7e23e4",
   "metadata": {},
   "outputs": [
    {
     "data": {
      "text/plain": [
       "Year\n",
       "1979    12.019349\n",
       "1980    11.785219\n",
       "1981    11.776148\n",
       "1982    12.048755\n",
       "1983    11.852904\n",
       "Name: Extent, dtype: float64"
      ]
     },
     "execution_count": 11,
     "metadata": {},
     "output_type": "execute_result"
    }
   ],
   "source": [
    "# Pull out mean of the 'Extent' variable\n",
    "annualextent_df = iceyears_df.mean()['Extent']\n",
    "annualextent_df.head() "
   ]
  },
  {
   "cell_type": "code",
   "execution_count": 12,
   "id": "fe2b0b5c",
   "metadata": {},
   "outputs": [
    {
     "data": {
      "text/plain": [
       "Text(0.5, 0, 'Year')"
      ]
     },
     "execution_count": 12,
     "metadata": {},
     "output_type": "execute_result"
    },
    {
     "data": {
      "image/png": "[encoded data removed]",
      "text/plain": [
       "<Figure size 432x288 with 1 Axes>"
      ]
     },
     "metadata": {},
     "output_type": "display_data"
    }
   ],
   "source": [
    "# plot the average annual extent\n",
    "plt.plot(annualextent_df)\n",
    "plt.title('Average sea ice extent')\n",
    "plt.ylabel('Million Square Kilometers')\n",
    "plt.xlabel('Year')\n"
   ]
  },
  {
   "cell_type": "markdown",
   "id": "753ded58",
   "metadata": {},
   "source": [
    "Yearly averages seem to indicate a reduction in the sea ice extent over the years, We will need to examine the impact of seasonal changes and also the trends by hemispheres  "
   ]
  },
  {
   "cell_type": "markdown",
   "id": "29400184",
   "metadata": {},
   "source": [
    "### Monthly Average Sea Ice Extent"
   ]
  },
  {
   "cell_type": "code",
   "execution_count": 13,
   "id": "682d7e3c",
   "metadata": {},
   "outputs": [],
   "source": [
    "# Group the dataset by month\n",
    "icemonths_df = seaice_df.groupby(seaice_df['Month'])\n"
   ]
  },
  {
   "cell_type": "code",
   "execution_count": 14,
   "id": "287cf2d5",
   "metadata": {},
   "outputs": [
    {
     "data": {
      "text/plain": [
       "Month\n",
       "1     9.696917\n",
       "2     9.145930\n",
       "3     9.713802\n",
       "4    10.777345\n",
       "5    11.743750\n",
       "Name: Extent, dtype: float64"
      ]
     },
     "execution_count": 14,
     "metadata": {},
     "output_type": "execute_result"
    }
   ],
   "source": [
    "# Pull out mean of the 'Extent' variable\n",
    "monthlyextent_df = icemonths_df.mean()['Extent']\n",
    "monthlyextent_df.head() "
   ]
  },
  {
   "cell_type": "code",
   "execution_count": 15,
   "id": "a68ece7d",
   "metadata": {},
   "outputs": [
    {
     "data": {
      "text/plain": [
       "Text(0.5, 0, 'Month')"
      ]
     },
     "execution_count": 15,
     "metadata": {},
     "output_type": "execute_result"
    },
    {
     "data": {
      "image/png": "[encoded data removed]",
      "text/plain": [
       "<Figure size 432x288 with 1 Axes>"
      ]
     },
     "metadata": {},
     "output_type": "display_data"
    }
   ],
   "source": [
    "# plot the average monthly extent\n",
    "plt.plot(monthlyextent_df)\n",
    "plt.title('Average sea ice extent')\n",
    "plt.ylabel('Million Square Kilometers')\n",
    "plt.xlabel('Month')\n"
   ]
  },
  {
   "cell_type": "markdown",
   "id": "1a00ab8d",
   "metadata": {},
   "source": [
    "### Lets now see the differences by hemispheres\n"
   ]
  },
  {
   "cell_type": "code",
   "execution_count": 16,
   "id": "22a0fa06",
   "metadata": {},
   "outputs": [
    {
     "data": {
      "text/html": [
       "<div>\n",
       "<style scoped>\n",
       "    .dataframe tbody tr th:only-of-type {\n",
       "        vertical-align: middle;\n",
       "    }\n",
       "\n",
       "    .dataframe tbody tr th {\n",
       "        vertical-align: top;\n",
       "    }\n",
       "\n",
       "    .dataframe thead th {\n",
       "        text-align: right;\n",
       "    }\n",
       "</style>\n",
       "<table border=\"1\" class=\"dataframe\">\n",
       "  <thead>\n",
       "    <tr style=\"text-align: right;\">\n",
       "      <th></th>\n",
       "      <th>Year</th>\n",
       "      <th>Month</th>\n",
       "      <th>Day</th>\n",
       "      <th>Extent</th>\n",
       "      <th>Missing</th>\n",
       "      <th>Source_Data</th>\n",
       "      <th>hemisphere</th>\n",
       "      <th>Date</th>\n",
       "    </tr>\n",
       "  </thead>\n",
       "  <tbody>\n",
       "    <tr>\n",
       "      <th>1979-01-02</th>\n",
       "      <td>1979</td>\n",
       "      <td>1</td>\n",
       "      <td>2</td>\n",
       "      <td>14.997</td>\n",
       "      <td>0</td>\n",
       "      <td>ftp://sidads.colorado.edu/pub/DATASETS/nsidc00...</td>\n",
       "      <td>north</td>\n",
       "      <td>1979-01-02</td>\n",
       "    </tr>\n",
       "    <tr>\n",
       "      <th>1979-01-04</th>\n",
       "      <td>1979</td>\n",
       "      <td>1</td>\n",
       "      <td>4</td>\n",
       "      <td>14.922</td>\n",
       "      <td>0</td>\n",
       "      <td>ftp://sidads.colorado.edu/pub/DATASETS/nsidc00...</td>\n",
       "      <td>north</td>\n",
       "      <td>1979-01-04</td>\n",
       "    </tr>\n",
       "    <tr>\n",
       "      <th>1979-01-06</th>\n",
       "      <td>1979</td>\n",
       "      <td>1</td>\n",
       "      <td>6</td>\n",
       "      <td>14.929</td>\n",
       "      <td>0</td>\n",
       "      <td>ftp://sidads.colorado.edu/pub/DATASETS/nsidc00...</td>\n",
       "      <td>north</td>\n",
       "      <td>1979-01-06</td>\n",
       "    </tr>\n",
       "    <tr>\n",
       "      <th>1979-01-08</th>\n",
       "      <td>1979</td>\n",
       "      <td>1</td>\n",
       "      <td>8</td>\n",
       "      <td>14.968</td>\n",
       "      <td>0</td>\n",
       "      <td>ftp://sidads.colorado.edu/pub/DATASETS/nsidc00...</td>\n",
       "      <td>north</td>\n",
       "      <td>1979-01-08</td>\n",
       "    </tr>\n",
       "    <tr>\n",
       "      <th>1979-01-10</th>\n",
       "      <td>1979</td>\n",
       "      <td>1</td>\n",
       "      <td>10</td>\n",
       "      <td>15.190</td>\n",
       "      <td>0</td>\n",
       "      <td>ftp://sidads.colorado.edu/pub/DATASETS/nsidc00...</td>\n",
       "      <td>north</td>\n",
       "      <td>1979-01-10</td>\n",
       "    </tr>\n",
       "    <tr>\n",
       "      <th>...</th>\n",
       "      <td>...</td>\n",
       "      <td>...</td>\n",
       "      <td>...</td>\n",
       "      <td>...</td>\n",
       "      <td>...</td>\n",
       "      <td>...</td>\n",
       "      <td>...</td>\n",
       "      <td>...</td>\n",
       "    </tr>\n",
       "    <tr>\n",
       "      <th>2015-12-27</th>\n",
       "      <td>2015</td>\n",
       "      <td>12</td>\n",
       "      <td>27</td>\n",
       "      <td>12.680</td>\n",
       "      <td>0</td>\n",
       "      <td>ftp://sidads.colorado.edu/pub/DATASETS/nsidc00...</td>\n",
       "      <td>north</td>\n",
       "      <td>2015-12-27</td>\n",
       "    </tr>\n",
       "    <tr>\n",
       "      <th>2015-12-28</th>\n",
       "      <td>2015</td>\n",
       "      <td>12</td>\n",
       "      <td>28</td>\n",
       "      <td>12.745</td>\n",
       "      <td>0</td>\n",
       "      <td>ftp://sidads.colorado.edu/pub/DATASETS/nsidc00...</td>\n",
       "      <td>north</td>\n",
       "      <td>2015-12-28</td>\n",
       "    </tr>\n",
       "    <tr>\n",
       "      <th>2015-12-29</th>\n",
       "      <td>2015</td>\n",
       "      <td>12</td>\n",
       "      <td>29</td>\n",
       "      <td>12.762</td>\n",
       "      <td>0</td>\n",
       "      <td>ftp://sidads.colorado.edu/pub/DATASETS/nsidc00...</td>\n",
       "      <td>north</td>\n",
       "      <td>2015-12-29</td>\n",
       "    </tr>\n",
       "    <tr>\n",
       "      <th>2015-12-30</th>\n",
       "      <td>2015</td>\n",
       "      <td>12</td>\n",
       "      <td>30</td>\n",
       "      <td>12.800</td>\n",
       "      <td>0</td>\n",
       "      <td>ftp://sidads.colorado.edu/pub/DATASETS/nsidc00...</td>\n",
       "      <td>north</td>\n",
       "      <td>2015-12-30</td>\n",
       "    </tr>\n",
       "    <tr>\n",
       "      <th>2015-12-31</th>\n",
       "      <td>2015</td>\n",
       "      <td>12</td>\n",
       "      <td>31</td>\n",
       "      <td>12.735</td>\n",
       "      <td>0</td>\n",
       "      <td>ftp://sidads.colorado.edu/pub/DATASETS/nsidc00...</td>\n",
       "      <td>north</td>\n",
       "      <td>2015-12-31</td>\n",
       "    </tr>\n",
       "  </tbody>\n",
       "</table>\n",
       "<p>11896 rows × 8 columns</p>\n",
       "</div>"
      ],
      "text/plain": [
       "            Year  Month  Day  Extent  Missing  \\\n",
       "1979-01-02  1979      1    2  14.997        0   \n",
       "1979-01-04  1979      1    4  14.922        0   \n",
       "1979-01-06  1979      1    6  14.929        0   \n",
       "1979-01-08  1979      1    8  14.968        0   \n",
       "1979-01-10  1979      1   10  15.190        0   \n",
       "...          ...    ...  ...     ...      ...   \n",
       "2015-12-27  2015     12   27  12.680        0   \n",
       "2015-12-28  2015     12   28  12.745        0   \n",
       "2015-12-29  2015     12   29  12.762        0   \n",
       "2015-12-30  2015     12   30  12.800        0   \n",
       "2015-12-31  2015     12   31  12.735        0   \n",
       "\n",
       "                                                  Source_Data hemisphere  \\\n",
       "1979-01-02  ftp://sidads.colorado.edu/pub/DATASETS/nsidc00...      north   \n",
       "1979-01-04  ftp://sidads.colorado.edu/pub/DATASETS/nsidc00...      north   \n",
       "1979-01-06  ftp://sidads.colorado.edu/pub/DATASETS/nsidc00...      north   \n",
       "1979-01-08  ftp://sidads.colorado.edu/pub/DATASETS/nsidc00...      north   \n",
       "1979-01-10  ftp://sidads.colorado.edu/pub/DATASETS/nsidc00...      north   \n",
       "...                                                       ...        ...   \n",
       "2015-12-27  ftp://sidads.colorado.edu/pub/DATASETS/nsidc00...      north   \n",
       "2015-12-28  ftp://sidads.colorado.edu/pub/DATASETS/nsidc00...      north   \n",
       "2015-12-29  ftp://sidads.colorado.edu/pub/DATASETS/nsidc00...      north   \n",
       "2015-12-30  ftp://sidads.colorado.edu/pub/DATASETS/nsidc00...      north   \n",
       "2015-12-31  ftp://sidads.colorado.edu/pub/DATASETS/nsidc00...      north   \n",
       "\n",
       "                 Date  \n",
       "1979-01-02 1979-01-02  \n",
       "1979-01-04 1979-01-04  \n",
       "1979-01-06 1979-01-06  \n",
       "1979-01-08 1979-01-08  \n",
       "1979-01-10 1979-01-10  \n",
       "...               ...  \n",
       "2015-12-27 2015-12-27  \n",
       "2015-12-28 2015-12-28  \n",
       "2015-12-29 2015-12-29  \n",
       "2015-12-30 2015-12-30  \n",
       "2015-12-31 2015-12-31  \n",
       "\n",
       "[11896 rows x 8 columns]"
      ]
     },
     "execution_count": 16,
     "metadata": {},
     "output_type": "execute_result"
    }
   ],
   "source": [
    "northern_df = seaice_df[seaice_df['hemisphere'] == 'north']\n",
    "northern_df"
   ]
  },
  {
   "cell_type": "markdown",
   "id": "7b0fb517",
   "metadata": {},
   "source": [
    "### Annual Average Sea Ice Extent - Northern Hemisphere"
   ]
  },
  {
   "cell_type": "code",
   "execution_count": 17,
   "id": "a53390f0",
   "metadata": {},
   "outputs": [],
   "source": [
    "# Group the dataset by year\n",
    "nhiceyears_df = northern_df.groupby(northern_df['Year'])\n"
   ]
  },
  {
   "cell_type": "code",
   "execution_count": 18,
   "id": "8f14890d",
   "metadata": {},
   "outputs": [
    {
     "data": {
      "text/plain": [
       "Year\n",
       "1979    12.319560\n",
       "1980    12.334148\n",
       "1981    12.135486\n",
       "1982    12.439445\n",
       "1983    12.335896\n",
       "Name: Extent, dtype: float64"
      ]
     },
     "execution_count": 18,
     "metadata": {},
     "output_type": "execute_result"
    }
   ],
   "source": [
    "# Pull out mean of the 'Extent' variable\n",
    "nhannualextent_df = nhiceyears_df.mean()['Extent']\n",
    "nhannualextent_df.head() "
   ]
  },
  {
   "cell_type": "code",
   "execution_count": 19,
   "id": "0c0073cc",
   "metadata": {},
   "outputs": [
    {
     "data": {
      "text/plain": [
       "Text(0.5, 0, 'Year')"
      ]
     },
     "execution_count": 19,
     "metadata": {},
     "output_type": "execute_result"
    },
    {
     "data": {
      "image/png": "[encoded data removed]",
      "text/plain": [
       "<Figure size 432x288 with 1 Axes>"
      ]
     },
     "metadata": {},
     "output_type": "display_data"
    }
   ],
   "source": [
    "# plot the average annual extent\n",
    "plt.plot(nhannualextent_df)\n",
    "plt.title('Annual Average sea ice extent - Northern Hemisphere')\n",
    "plt.ylabel('Million Square Kilometers')\n",
    "plt.xlabel('Year')\n"
   ]
  },
  {
   "cell_type": "markdown",
   "id": "d5ae79ce",
   "metadata": {},
   "source": [
    "### Monthly Average Sea Ice Extent - Northern Hemisphere"
   ]
  },
  {
   "cell_type": "code",
   "execution_count": 20,
   "id": "feb441c0",
   "metadata": {},
   "outputs": [],
   "source": [
    "# Group the dataset by month\n",
    "nhicemonths_df = northern_df.groupby(northern_df['Month'])\n"
   ]
  },
  {
   "cell_type": "code",
   "execution_count": 21,
   "id": "17590831",
   "metadata": {},
   "outputs": [
    {
     "data": {
      "text/plain": [
       "Month\n",
       "1    14.283332\n",
       "2    15.152538\n",
       "3    15.306848\n",
       "4    14.583496\n",
       "5    13.175670\n",
       "Name: Extent, dtype: float64"
      ]
     },
     "execution_count": 21,
     "metadata": {},
     "output_type": "execute_result"
    }
   ],
   "source": [
    "# Pull out mean of the 'Extent' variable\n",
    "nhmonthlyextent_df = nhicemonths_df.mean()['Extent']\n",
    "nhmonthlyextent_df.head() "
   ]
  },
  {
   "cell_type": "code",
   "execution_count": 22,
   "id": "71936635",
   "metadata": {},
   "outputs": [
    {
     "data": {
      "text/plain": [
       "Text(0.5, 0, 'Month')"
      ]
     },
     "execution_count": 22,
     "metadata": {},
     "output_type": "execute_result"
    },
    {
     "data": {
      "image/png": "[encoded data removed]",
      "text/plain": [
       "<Figure size 432x288 with 1 Axes>"
      ]
     },
     "metadata": {},
     "output_type": "display_data"
    }
   ],
   "source": [
    "# plot the average monthly extent\n",
    "plt.plot(nhmonthlyextent_df)\n",
    "plt.title('Monthly Average sea ice extent - Northern Hemisphere')\n",
    "plt.ylabel('Million Square Kilometers')\n",
    "plt.xlabel('Month')\n"
   ]
  },
  {
   "cell_type": "code",
   "execution_count": 23,
   "id": "6963c665",
   "metadata": {},
   "outputs": [
    {
     "data": {
      "text/html": [
       "<div>\n",
       "<style scoped>\n",
       "    .dataframe tbody tr th:only-of-type {\n",
       "        vertical-align: middle;\n",
       "    }\n",
       "\n",
       "    .dataframe tbody tr th {\n",
       "        vertical-align: top;\n",
       "    }\n",
       "\n",
       "    .dataframe thead th {\n",
       "        text-align: right;\n",
       "    }\n",
       "</style>\n",
       "<table border=\"1\" class=\"dataframe\">\n",
       "  <thead>\n",
       "    <tr style=\"text-align: right;\">\n",
       "      <th></th>\n",
       "      <th>Year</th>\n",
       "      <th>Month</th>\n",
       "      <th>Day</th>\n",
       "      <th>Extent</th>\n",
       "      <th>Missing</th>\n",
       "      <th>Source_Data</th>\n",
       "      <th>hemisphere</th>\n",
       "      <th>Date</th>\n",
       "    </tr>\n",
       "  </thead>\n",
       "  <tbody>\n",
       "    <tr>\n",
       "      <th>1979-01-02</th>\n",
       "      <td>1979</td>\n",
       "      <td>1</td>\n",
       "      <td>2</td>\n",
       "      <td>6.945</td>\n",
       "      <td>0</td>\n",
       "      <td>ftp://sidads.colorado.edu/pub/DATASETS/nsidc00...</td>\n",
       "      <td>south</td>\n",
       "      <td>1979-01-02</td>\n",
       "    </tr>\n",
       "    <tr>\n",
       "      <th>1979-01-04</th>\n",
       "      <td>1979</td>\n",
       "      <td>1</td>\n",
       "      <td>4</td>\n",
       "      <td>6.838</td>\n",
       "      <td>0</td>\n",
       "      <td>ftp://sidads.colorado.edu/pub/DATASETS/nsidc00...</td>\n",
       "      <td>south</td>\n",
       "      <td>1979-01-04</td>\n",
       "    </tr>\n",
       "    <tr>\n",
       "      <th>1979-01-06</th>\n",
       "      <td>1979</td>\n",
       "      <td>1</td>\n",
       "      <td>6</td>\n",
       "      <td>6.638</td>\n",
       "      <td>0</td>\n",
       "      <td>ftp://sidads.colorado.edu/pub/DATASETS/nsidc00...</td>\n",
       "      <td>south</td>\n",
       "      <td>1979-01-06</td>\n",
       "    </tr>\n",
       "    <tr>\n",
       "      <th>1979-01-08</th>\n",
       "      <td>1979</td>\n",
       "      <td>1</td>\n",
       "      <td>8</td>\n",
       "      <td>6.270</td>\n",
       "      <td>0</td>\n",
       "      <td>ftp://sidads.colorado.edu/pub/DATASETS/nsidc00...</td>\n",
       "      <td>south</td>\n",
       "      <td>1979-01-08</td>\n",
       "    </tr>\n",
       "    <tr>\n",
       "      <th>1979-01-10</th>\n",
       "      <td>1979</td>\n",
       "      <td>1</td>\n",
       "      <td>10</td>\n",
       "      <td>6.138</td>\n",
       "      <td>0</td>\n",
       "      <td>ftp://sidads.colorado.edu/pub/DATASETS/nsidc00...</td>\n",
       "      <td>south</td>\n",
       "      <td>1979-01-10</td>\n",
       "    </tr>\n",
       "    <tr>\n",
       "      <th>...</th>\n",
       "      <td>...</td>\n",
       "      <td>...</td>\n",
       "      <td>...</td>\n",
       "      <td>...</td>\n",
       "      <td>...</td>\n",
       "      <td>...</td>\n",
       "      <td>...</td>\n",
       "      <td>...</td>\n",
       "    </tr>\n",
       "    <tr>\n",
       "      <th>2015-12-27</th>\n",
       "      <td>2015</td>\n",
       "      <td>12</td>\n",
       "      <td>27</td>\n",
       "      <td>8.358</td>\n",
       "      <td>0</td>\n",
       "      <td>ftp://sidads.colorado.edu/pub/DATASETS/nsidc00...</td>\n",
       "      <td>south</td>\n",
       "      <td>2015-12-27</td>\n",
       "    </tr>\n",
       "    <tr>\n",
       "      <th>2015-12-28</th>\n",
       "      <td>2015</td>\n",
       "      <td>12</td>\n",
       "      <td>28</td>\n",
       "      <td>8.098</td>\n",
       "      <td>0</td>\n",
       "      <td>ftp://sidads.colorado.edu/pub/DATASETS/nsidc00...</td>\n",
       "      <td>south</td>\n",
       "      <td>2015-12-28</td>\n",
       "    </tr>\n",
       "    <tr>\n",
       "      <th>2015-12-29</th>\n",
       "      <td>2015</td>\n",
       "      <td>12</td>\n",
       "      <td>29</td>\n",
       "      <td>7.791</td>\n",
       "      <td>0</td>\n",
       "      <td>ftp://sidads.colorado.edu/pub/DATASETS/nsidc00...</td>\n",
       "      <td>south</td>\n",
       "      <td>2015-12-29</td>\n",
       "    </tr>\n",
       "    <tr>\n",
       "      <th>2015-12-30</th>\n",
       "      <td>2015</td>\n",
       "      <td>12</td>\n",
       "      <td>30</td>\n",
       "      <td>7.494</td>\n",
       "      <td>0</td>\n",
       "      <td>ftp://sidads.colorado.edu/pub/DATASETS/nsidc00...</td>\n",
       "      <td>south</td>\n",
       "      <td>2015-12-30</td>\n",
       "    </tr>\n",
       "    <tr>\n",
       "      <th>2015-12-31</th>\n",
       "      <td>2015</td>\n",
       "      <td>12</td>\n",
       "      <td>31</td>\n",
       "      <td>7.222</td>\n",
       "      <td>0</td>\n",
       "      <td>ftp://sidads.colorado.edu/pub/DATASETS/nsidc00...</td>\n",
       "      <td>south</td>\n",
       "      <td>2015-12-31</td>\n",
       "    </tr>\n",
       "  </tbody>\n",
       "</table>\n",
       "<p>11896 rows × 8 columns</p>\n",
       "</div>"
      ],
      "text/plain": [
       "            Year  Month  Day  Extent  Missing  \\\n",
       "1979-01-02  1979      1    2   6.945        0   \n",
       "1979-01-04  1979      1    4   6.838        0   \n",
       "1979-01-06  1979      1    6   6.638        0   \n",
       "1979-01-08  1979      1    8   6.270        0   \n",
       "1979-01-10  1979      1   10   6.138        0   \n",
       "...          ...    ...  ...     ...      ...   \n",
       "2015-12-27  2015     12   27   8.358        0   \n",
       "2015-12-28  2015     12   28   8.098        0   \n",
       "2015-12-29  2015     12   29   7.791        0   \n",
       "2015-12-30  2015     12   30   7.494        0   \n",
       "2015-12-31  2015     12   31   7.222        0   \n",
       "\n",
       "                                                  Source_Data hemisphere  \\\n",
       "1979-01-02  ftp://sidads.colorado.edu/pub/DATASETS/nsidc00...      south   \n",
       "1979-01-04  ftp://sidads.colorado.edu/pub/DATASETS/nsidc00...      south   \n",
       "1979-01-06  ftp://sidads.colorado.edu/pub/DATASETS/nsidc00...      south   \n",
       "1979-01-08  ftp://sidads.colorado.edu/pub/DATASETS/nsidc00...      south   \n",
       "1979-01-10  ftp://sidads.colorado.edu/pub/DATASETS/nsidc00...      south   \n",
       "...                                                       ...        ...   \n",
       "2015-12-27  ftp://sidads.colorado.edu/pub/DATASETS/nsidc00...      south   \n",
       "2015-12-28  ftp://sidads.colorado.edu/pub/DATASETS/nsidc00...      south   \n",
       "2015-12-29  ftp://sidads.colorado.edu/pub/DATASETS/nsidc00...      south   \n",
       "2015-12-30  ftp://sidads.colorado.edu/pub/DATASETS/nsidc00...      south   \n",
       "2015-12-31  ftp://sidads.colorado.edu/pub/DATASETS/nsidc00...      south   \n",
       "\n",
       "                 Date  \n",
       "1979-01-02 1979-01-02  \n",
       "1979-01-04 1979-01-04  \n",
       "1979-01-06 1979-01-06  \n",
       "1979-01-08 1979-01-08  \n",
       "1979-01-10 1979-01-10  \n",
       "...               ...  \n",
       "2015-12-27 2015-12-27  \n",
       "2015-12-28 2015-12-28  \n",
       "2015-12-29 2015-12-29  \n",
       "2015-12-30 2015-12-30  \n",
       "2015-12-31 2015-12-31  \n",
       "\n",
       "[11896 rows x 8 columns]"
      ]
     },
     "execution_count": 23,
     "metadata": {},
     "output_type": "execute_result"
    }
   ],
   "source": [
    "southern_df = seaice_df[seaice_df['hemisphere']== 'south']\n",
    "southern_df"
   ]
  },
  {
   "cell_type": "markdown",
   "id": "a14aee62",
   "metadata": {},
   "source": [
    "### Annual Average Sea Ice Extent - Southern Hemisphere"
   ]
  },
  {
   "cell_type": "code",
   "execution_count": 24,
   "id": "6ebd8a98",
   "metadata": {},
   "outputs": [],
   "source": [
    "# Group the dataset by year\n",
    "shiceyears_df = southern_df.groupby(southern_df['Year'])\n"
   ]
  },
  {
   "cell_type": "code",
   "execution_count": 25,
   "id": "28723bf1",
   "metadata": {},
   "outputs": [
    {
     "data": {
      "text/plain": [
       "Year\n",
       "1979    11.719137\n",
       "1980    11.236290\n",
       "1981    11.416809\n",
       "1982    11.658066\n",
       "1983    11.369913\n",
       "Name: Extent, dtype: float64"
      ]
     },
     "execution_count": 25,
     "metadata": {},
     "output_type": "execute_result"
    }
   ],
   "source": [
    "# Pull out mean of the 'Extent' variable\n",
    "shannualextent_df = shiceyears_df.mean()['Extent']\n",
    "shannualextent_df.head() "
   ]
  },
  {
   "cell_type": "code",
   "execution_count": 26,
   "id": "05cf678e",
   "metadata": {},
   "outputs": [
    {
     "data": {
      "text/plain": [
       "Text(0.5, 0, 'Year')"
      ]
     },
     "execution_count": 26,
     "metadata": {},
     "output_type": "execute_result"
    },
    {
     "data": {
      "image/png": "[encoded data removed]",
      "text/plain": [
       "<Figure size 432x288 with 1 Axes>"
      ]
     },
     "metadata": {},
     "output_type": "display_data"
    }
   ],
   "source": [
    "# plot the average annual extent\n",
    "plt.plot(shannualextent_df)\n",
    "plt.title('Annual Average sea ice extent - Southern Hemisphere')\n",
    "plt.ylabel('Million Square Kilometers')\n",
    "plt.xlabel('Year')\n"
   ]
  },
  {
   "cell_type": "markdown",
   "id": "00398ffd",
   "metadata": {},
   "source": [
    "### Monthly Average Sea Ice Extent - Northern Hemisphere"
   ]
  },
  {
   "cell_type": "code",
   "execution_count": 27,
   "id": "620d59d0",
   "metadata": {},
   "outputs": [],
   "source": [
    "# Group the dataset by month\n",
    "shicemonths_df = southern_df.groupby(southern_df['Month'])\n"
   ]
  },
  {
   "cell_type": "code",
   "execution_count": 28,
   "id": "c2e06912",
   "metadata": {},
   "outputs": [
    {
     "data": {
      "text/plain": [
       "Month\n",
       "1     5.110503\n",
       "2     3.139322\n",
       "3     4.120755\n",
       "4     6.971193\n",
       "5    10.311829\n",
       "Name: Extent, dtype: float64"
      ]
     },
     "execution_count": 28,
     "metadata": {},
     "output_type": "execute_result"
    }
   ],
   "source": [
    "# Pull out mean of the 'Extent' variable\n",
    "shmonthlyextent_df = shicemonths_df.mean()['Extent']\n",
    "shmonthlyextent_df.head() "
   ]
  },
  {
   "cell_type": "code",
   "execution_count": 29,
   "id": "fe249c9a",
   "metadata": {},
   "outputs": [
    {
     "data": {
      "text/plain": [
       "Text(0.5, 0, 'Month')"
      ]
     },
     "execution_count": 29,
     "metadata": {},
     "output_type": "execute_result"
    },
    {
     "data": {
      "image/png": "[encoded data removed]",
      "text/plain": [
       "<Figure size 432x288 with 1 Axes>"
      ]
     },
     "metadata": {},
     "output_type": "display_data"
    }
   ],
   "source": [
    "# plot the average annual extent\n",
    "plt.plot(shmonthlyextent_df)\n",
    "plt.title('Monthly Average sea ice extent - Southern Hemisphere')\n",
    "plt.ylabel('Million Square Kilometers')\n",
    "plt.xlabel('Month')\n"
   ]
  },
  {
   "cell_type": "code",
   "execution_count": null,
   "id": "1e8953f5",
   "metadata": {},
   "outputs": [],
   "source": []
  }
 ],
 "metadata": {
  "kernelspec": {
   "display_name": "mlenv",
   "language": "python",
   "name": "mlenv"
  },
  "language_info": {
   "codemirror_mode": {
    "name": "ipython",
    "version": 3
   },
   "file_extension": ".py",
   "mimetype": "text/x-python",
   "name": "python",
   "nbconvert_exporter": "python",
   "pygments_lexer": "ipython3",
   "version": "3.7.10"
  }
 },
 "nbformat": 4,
 "nbformat_minor": 5
}
